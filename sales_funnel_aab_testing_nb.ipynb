{
 "cells": [
  {
   "cell_type": "markdown",
   "metadata": {},
   "source": [
    "# Project 11"
   ]
  },
  {
   "cell_type": "markdown",
   "metadata": {},
   "source": [
    "## Project description"
   ]
  },
  {
   "cell_type": "markdown",
   "metadata": {},
   "source": [
    "A startup company that sells food products. Need to research user behavior for the company's application.\n",
    "\n",
    "First, study the sales funnel. Find out how users reach the purchase stage. How many users actually reach this stage? How many get stuck in earlier stages? Which specific stages?\n",
    "\n",
    "Then, take a look at the results of an A/A/B test (*keep reading to learn more about A/A/B test*). The design team would like to change the fonts throughout the entire app, but management fears that users may find the new design intimidating. For this reason, they've decided to make a decision based on the results of an A/A/B test.\n",
    "\n",
    "Users are divided into **three groups**: two control groups get the old fonts, and one test group gets the new fonts. Determine which set of fonts produces better results.\n",
    "\n",
    "Creating two A groups has certain advantages. We can establish the principle that we'll only trust the accuracy of our tests when both control groups are similar. If there are significant differences between the A groups, this may help us identify factors that could be skewing the results. Comparing control groups also tells us how much time and data we'll need when conducting future tests.\n",
    "\n",
    "You'll use the same dataset for both the general analysis and the A/A/B test analysis. In real projects, experiments are carried out continuously. The analytics team studies app quality using general data, without paying attention to whether users are participating in experiments."
   ]
  },
  {
   "cell_type": "markdown",
   "metadata": {},
   "source": [
    "## Step 1. Open the data file and read the information"
   ]
  },
  {
   "cell_type": "markdown",
   "metadata": {},
   "source": [
    "### Load data and read general information"
   ]
  },
  {
   "cell_type": "code",
   "execution_count": 4,
   "metadata": {},
   "outputs": [],
   "source": [
    "import pandas as pd\n",
    "import numpy as np\n",
    "import matplotlib.pyplot as plt\n",
    "import seaborn as sns\n",
    "from scipy import stats"
   ]
  },
  {
   "cell_type": "code",
   "execution_count": null,
   "metadata": {},
   "outputs": [],
   "source": [
    "#General display settings\n",
    "sns.set(style='whitegrid')\n",
    "plt.rcParams['figure.figsize'] = (12, 6)"
   ]
  },
  {
   "cell_type": "markdown",
   "metadata": {},
   "source": [
    "### Read data"
   ]
  },
  {
   "cell_type": "code",
   "execution_count": 7,
   "metadata": {},
   "outputs": [],
   "source": [
    "#data = pd.read_csv('/datasets/logs_exp_us.csv', sep='\\t')\n",
    "data = pd.read_csv(r'D:/2. Objetivos especificos/9. Programación/notebooks_de_jupiter/sprint_11/logs_exp_us.csv', sep= '\\t')"
   ]
  },
  {
   "cell_type": "code",
   "execution_count": null,
   "metadata": {},
   "outputs": [
    {
     "name": "stdout",
     "output_type": "stream",
     "text": [
      "                      EventName         DeviceIDHash  EventTimestamp  ExpId\n",
      "14632          MainScreenAppear  5240727563879855374      1564655892    248\n",
      "234931  PaymentScreenSuccessful   652742507219479167      1565192716    248\n",
      "220871         MainScreenAppear  4229497205630462633      1565168201    248\n",
      "76048          MainScreenAppear   634894491679664239      1564806326    246\n",
      "176553         CartScreenAppear  3788810404193836212      1565041790    247\n"
     ]
    }
   ],
   "source": [
    "print(data.sample(5))"
   ]
  },
  {
   "cell_type": "markdown",
   "metadata": {},
   "source": [
    "## Step 2. Prepare the data"
   ]
  },
  {
   "cell_type": "code",
   "execution_count": null,
   "metadata": {},
   "outputs": [],
   "source": [
    "#Rename columns\n",
    "columns_rename = {\n",
    "    'EventName': 'event',\n",
    "    'DeviceIDHash':'user_id',\n",
    "    'EventTimestamp':'timestamp',\n",
    "    'ExpId':'exp_id'\n",
    "}\n",
    "data = data.rename(columns = columns_rename)\n"
   ]
  },
  {
   "cell_type": "code",
   "execution_count": null,
   "metadata": {
    "jupyter": {
     "source_hidden": true
    }
   },
   "outputs": [
    {
     "name": "stdout",
     "output_type": "stream",
     "text": [
      "<class 'pandas.core.frame.DataFrame'>\n",
      "RangeIndex: 244126 entries, 0 to 244125\n",
      "Data columns (total 4 columns):\n",
      " #   Column     Non-Null Count   Dtype \n",
      "---  ------     --------------   ----- \n",
      " 0   event      244126 non-null  object\n",
      " 1   user_id    244126 non-null  int64 \n",
      " 2   timestamp  244126 non-null  int64 \n",
      " 3   exp_id     244126 non-null  int64 \n",
      "dtypes: int64(3), object(1)\n",
      "memory usage: 7.5+ MB\n"
     ]
    }
   ],
   "source": [
    "data.info()"
   ]
  },
  {
   "cell_type": "code",
   "execution_count": null,
   "metadata": {
    "jupyter": {
     "source_hidden": true
    }
   },
   "outputs": [
    {
     "data": {
      "text/plain": [
       "0    1564029816\n",
       "1    1564053102\n",
       "2    1564054127\n",
       "3    1564054127\n",
       "4    1564055322\n",
       "Name: timestamp, dtype: int64"
      ]
     },
     "execution_count": 7,
     "metadata": {},
     "output_type": "execute_result"
    }
   ],
   "source": [
    "data['timestamp'].head()"
   ]
  },
  {
   "cell_type": "code",
   "execution_count": null,
   "metadata": {},
   "outputs": [],
   "source": [
    "#Convert types\n",
    "data['timestamp'] = pd.to_datetime(data['timestamp'], unit='s')\n"
   ]
  },
  {
   "cell_type": "code",
   "execution_count": null,
   "metadata": {},
   "outputs": [],
   "source": [
    "data['date'] = data['timestamp'].dt.date"
   ]
  },
  {
   "cell_type": "code",
   "execution_count": null,
   "metadata": {
    "jupyter": {
     "source_hidden": true
    }
   },
   "outputs": [
    {
     "name": "stdout",
     "output_type": "stream",
     "text": [
      "                          event              user_id           timestamp  \\\n",
      "0              MainScreenAppear  4575588528974610257 2019-07-25 04:43:36   \n",
      "1              MainScreenAppear  7416695313311560658 2019-07-25 11:11:42   \n",
      "2       PaymentScreenSuccessful  3518123091307005509 2019-07-25 11:28:47   \n",
      "3              CartScreenAppear  3518123091307005509 2019-07-25 11:28:47   \n",
      "4       PaymentScreenSuccessful  6217807653094995999 2019-07-25 11:48:42   \n",
      "...                         ...                  ...                 ...   \n",
      "244121         MainScreenAppear  4599628364049201812 2019-08-07 21:12:25   \n",
      "244122         MainScreenAppear  5849806612437486590 2019-08-07 21:13:59   \n",
      "244123         MainScreenAppear  5746969938801999050 2019-08-07 21:14:43   \n",
      "244124         MainScreenAppear  5746969938801999050 2019-08-07 21:14:58   \n",
      "244125       OffersScreenAppear  5746969938801999050 2019-08-07 21:15:17   \n",
      "\n",
      "        exp_id        date  \n",
      "0          246  2019-07-25  \n",
      "1          246  2019-07-25  \n",
      "2          248  2019-07-25  \n",
      "3          248  2019-07-25  \n",
      "4          248  2019-07-25  \n",
      "...        ...         ...  \n",
      "244121     247  2019-08-07  \n",
      "244122     246  2019-08-07  \n",
      "244123     246  2019-08-07  \n",
      "244124     246  2019-08-07  \n",
      "244125     246  2019-08-07  \n",
      "\n",
      "[244126 rows x 5 columns]\n"
     ]
    }
   ],
   "source": [
    "print(data)"
   ]
  },
  {
   "cell_type": "markdown",
   "metadata": {},
   "source": [
    "## Step 3. Study and verify the data"
   ]
  },
  {
   "cell_type": "code",
   "execution_count": null,
   "metadata": {},
   "outputs": [
    {
     "name": "stdout",
     "output_type": "stream",
     "text": [
      "Eventos totales: 244126\n",
      "Usuarios únicos: 7551\n",
      "Eventos promedio por usuario: 32.33028737915508\n",
      "Primer evento: 2019-07-25 04:43:36\n",
      "Ultimo evento: 2019-08-07 21:15:17\n"
     ]
    }
   ],
   "source": [
    "print('Eventos totales:', len(data))\n",
    "print('Usuarios únicos:', data['user_id'].nunique())\n",
    "print('Eventos promedio por usuario:', data.groupby('user_id')['event'].count().mean())\n",
    "\n",
    "print('Primer evento:', data['timestamp'].min())\n",
    "print('Ultimo evento:', data['timestamp'].max())"
   ]
  },
  {
   "cell_type": "code",
   "execution_count": null,
   "metadata": {},
   "outputs": [
    {
     "data": {
      "image/png": "[encoded data removed]",
      "text/plain": [
       "<Figure size 1200x600 with 1 Axes>"
      ]
     },
     "metadata": {},
     "output_type": "display_data"
    }
   ],
   "source": [
    "# Histograma por fecha\n",
    "plt.hist(data['date'], bins=30)\n",
    "plt.title('Frecuencia de eventos por fecha')\n",
    "plt.xlabel('Fecha')\n",
    "plt.ylabel('Número de eventos')\n",
    "plt.xticks(rotation=45)\n",
    "plt.show()"
   ]
  },
  {
   "cell_type": "code",
   "execution_count": null,
   "metadata": {},
   "outputs": [
    {
     "name": "stdout",
     "output_type": "stream",
     "text": [
      "Datos filtrados desde: 2019-08-01\n"
     ]
    }
   ],
   "source": [
    "# Identify the date from which the data is complete\n",
    "cutoff_date = pd.to_datetime('2019-08-01')\n",
    "data = data[data['timestamp'] >= cutoff_date]\n",
    "print('Datos filtrados desde:', cutoff_date.date())"
   ]
  },
  {
   "cell_type": "code",
   "execution_count": null,
   "metadata": {},
   "outputs": [
    {
     "name": "stdout",
     "output_type": "stream",
     "text": [
      "Distribución por grupo:\n",
      "248    84726\n",
      "246    79425\n",
      "247    77147\n",
      "Name: exp_id, dtype: int64\n"
     ]
    }
   ],
   "source": [
    "# Review experimental groups\n",
    "print('Distribución por grupo:')\n",
    "print(data['exp_id'].value_counts())"
   ]
  },
  {
   "cell_type": "markdown",
   "metadata": {},
   "source": [
    "A total of 244,126 events were recorded, corresponding to 7,551 unique users. This suggests a relatively small user base, but with high individual activity: each user performed an average of 32 events.\n",
    "\n",
    "Analyzing the dates, the data spans from July 25 to August 7, 2019. However, the frequency histogram reveals that the data is consistent only between August 1 and 7, with a notable absence of events on August 4. Despite this specific gap, the information can be considered reliable for this period.\n",
    "\n",
    "However, events prior to August 1, 2019, are incomplete and scattered, so it was decided to filter the data from that date onward to ensure quality and consistency in the analysis.\n",
    "\n",
    "Finally, reviewing the distribution of users across the experimental groups (ExpId) confirms that, even after filtering, each group retains a sufficient number of events, allowing the study to continue properly."
   ]
  },
  {
   "cell_type": "markdown",
   "metadata": {},
   "source": [
    "## Step 4. Funnel Study"
   ]
  },
  {
   "cell_type": "code",
   "execution_count": null,
   "metadata": {},
   "outputs": [
    {
     "name": "stdout",
     "output_type": "stream",
     "text": [
      "Eventos ordenados por frecuencia:\n",
      " MainScreenAppear           117431\n",
      "OffersScreenAppear          46350\n",
      "CartScreenAppear            42365\n",
      "PaymentScreenSuccessful     34113\n",
      "Tutorial                     1039\n",
      "Name: event, dtype: int64\n"
     ]
    }
   ],
   "source": [
    "#Eventos ordenados por frecuencia\n",
    "event_freq = data['event'].value_counts()\n",
    "print('Eventos ordenados por frecuencia:\\n', event_freq)"
   ]
  },
  {
   "cell_type": "code",
   "execution_count": null,
   "metadata": {},
   "outputs": [
    {
     "name": "stdout",
     "output_type": "stream",
     "text": [
      "\n",
      "Usuarios por evento:\n",
      " event\n",
      "MainScreenAppear           7419\n",
      "OffersScreenAppear         4593\n",
      "CartScreenAppear           3734\n",
      "PaymentScreenSuccessful    3539\n",
      "Tutorial                    840\n",
      "Name: user_id, dtype: int64\n",
      "\n",
      "Proporciones de usuarios por evento:\n",
      " event\n",
      "MainScreenAppear           0.985\n",
      "OffersScreenAppear         0.610\n",
      "CartScreenAppear           0.496\n",
      "PaymentScreenSuccessful    0.470\n",
      "Tutorial                   0.111\n",
      "Name: user_id, dtype: float64\n",
      "\n",
      "Tasas de conversión por etapa:\n",
      " event\n",
      "MainScreenAppear           1.000\n",
      "OffersScreenAppear         0.619\n",
      "CartScreenAppear           0.503\n",
      "PaymentScreenSuccessful    0.477\n",
      "Tutorial                   0.113\n",
      "Name: user_id, dtype: float64\n"
     ]
    }
   ],
   "source": [
    "# Usuarios por evento\n",
    "users_per_event = data.groupby('event')['user_id'].nunique().sort_values(ascending=False)\n",
    "print('\\nUsuarios por evento:\\n', users_per_event)\n",
    "\n",
    "# Proporción de usuarios que realizaron cada evento\n",
    "total_users = data['user_id'].nunique()\n",
    "print(\"\\nProporciones de usuarios por evento:\\n\", (users_per_event / total_users).round(3))\n",
    "\n",
    "# Embudo\n",
    "funnel_events = users_per_event.index.tolist()\n",
    "funnel = users_per_event[funnel_events].copy()\n",
    "conversion_rates = funnel / funnel.iloc[0]\n",
    "print('\\nTasas de conversión por etapa:\\n', conversion_rates.round(3))\n"
   ]
  },
  {
   "cell_type": "markdown",
   "metadata": {},
   "source": [
    "An analysis of the recorded events reveals a main flow that users follow during the checkout process:\n",
    "\n",
    "- MainScreenAppear\n",
    "- OffersScreenAppear\n",
    "- CartScreenAppear\n",
    "- PaymentScreenSuccessful\n",
    "\n",
    "On the other hand, the Tutorial event appears to be outside the main flow, as it represents a complementary interaction. Users likely access this option due to questions about the checkout process or by mistake.\n",
    "\n",
    "Looking at the proportion of users participating in each stage, the following conversion rates between events are identified:\n",
    "\n",
    "More than 98% of users start at MainScreenAppear.\n",
    "\n",
    "This proportion drops to approximately 61% at OffersScreenAppear.\n",
    "\n",
    "It then drops to 49% at CartScreenAppear.\n",
    "\n",
    "Finally, it remains stable at around 47% when reaching PaymentScreenSuccessful.\n",
    "\n",
    "This data suggests that most users who reach the cart stage (CartScreenAppear) are engaged and have a high probability of completing the purchase.\n",
    "\n",
    "However, the most critical point of attrition occurs between MainScreenAppear and OffersScreenAppear, where the most significant drop in engagement is observed. Improving this transition represents a key opportunity: if more users can advance to the offers stage, conversions in later stages of the funnel are also likely to increase."
   ]
  },
  {
   "cell_type": "markdown",
   "metadata": {},
   "source": [
    "## Step 5. Study the experiment"
   ]
  },
  {
   "cell_type": "code",
   "execution_count": null,
   "metadata": {},
   "outputs": [
    {
     "name": "stdout",
     "output_type": "stream",
     "text": [
      "\n",
      "Usuarios por grupo:\n",
      " exp_id\n",
      "246    2484\n",
      "247    2513\n",
      "248    2537\n",
      "Name: user_id, dtype: int64\n"
     ]
    }
   ],
   "source": [
    "# Users per group\n",
    "users_by_group = data.groupby('exp_id')['user_id'].nunique()\n",
    "print('\\nUsuarios por grupo:\\n', users_by_group)"
   ]
  },
  {
   "cell_type": "code",
   "execution_count": null,
   "metadata": {},
   "outputs": [],
   "source": [
    "from scipy.stats import norm\n",
    "import numpy as np\n",
    "\n",
    "def compare_proportions(event, group1, group2):\n",
    "    # Conteos de usuarios por evento y grupo\n",
    "    users_event_1 = data[(data['exp_id'] == group1) & (data['event'] == event)]['user_id'].nunique()\n",
    "    users_total_1 = data[data['exp_id'] == group1]['user_id'].nunique()\n",
    "\n",
    "    users_event_2 = data[(data['exp_id'] == group2) & (data['event'] == event)]['user_id'].nunique()\n",
    "    users_total_2 = data[data['exp_id'] == group2]['user_id'].nunique()\n",
    "\n",
    "    # Proporciones\n",
    "    p1 = users_event_1 / users_total_1\n",
    "    p2 = users_event_2 / users_total_2\n",
    "\n",
    "    # Proporción combinada\n",
    "    p_combined = (users_event_1 + users_event_2) / (users_total_1 + users_total_2)\n",
    "\n",
    "    # Estadístico z\n",
    "    diff = p1 - p2\n",
    "    std_error = np.sqrt(p_combined * (1 - p_combined) * (1/users_total_1 + 1/users_total_2))\n",
    "    z_score = diff / std_error\n",
    "\n",
    "    # p-valor (dos colas)\n",
    "    pval = 2 * (1 - norm.cdf(abs(z_score)))\n",
    "\n",
    "    return round(pval, 4)\n",
    " \n",
    "\n"
   ]
  },
  {
   "cell_type": "code",
   "execution_count": null,
   "metadata": {},
   "outputs": [
    {
     "name": "stdout",
     "output_type": "stream",
     "text": [
      "\n",
      "Comparación entre grupos de control:\n",
      "Evento: MainScreenAppear, p-valor: 0.7571\n",
      "Evento: OffersScreenAppear, p-valor: 0.2481\n",
      "Evento: CartScreenAppear, p-valor: 0.2288\n",
      "Evento: PaymentScreenSuccessful, p-valor: 0.1146\n",
      "Evento: Tutorial, p-valor: 0.9377\n",
      "\n",
      "Comparación grupo de prueba vs controles:\n",
      "Evento: MainScreenAppear, vs 246 p=0.295 | vs 247 p=0.4587\n",
      "Evento: OffersScreenAppear, vs 246 p=0.2084 | vs 247 p=0.9198\n"
     ]
    }
   ],
   "source": [
    "# Compare control groups (246 and 247)\n",
    "print('\\nComparación entre grupos de control:')\n",
    "for event in users_per_event.index:\n",
    "    p_value = compare_proportions(event, 246, 247)\n",
    "    print(f\"Evento: {event}, p-valor: {p_value}\")\n",
    "\n",
    "# Compare test group (248) vs each control\n",
    "print('\\nComparación grupo de prueba vs controles:')\n",
    "for event in users_per_event.index:\n",
    "    p_value_1 = compare_proportions(event, 248, 246)\n",
    "    p_value_2 = compare_proportions(event, 248, 247)\n",
    "    print(f\"Evento: {event}, vs 246 p={p_value_1} | vs 247 p={p_value_2}\")\n",
    "\n",
    "#Adjustment for multiple tests\n",
    "print('\\nTotal de pruebas realizadas:', len(users_per_event.index)*3)\n",
    "print('Con un nivel de significancia de 0.1, se podrían esperar falsos positivos.')\n",
    "\n",
    "    "
   ]
  },
  {
   "cell_type": "markdown",
   "metadata": {},
   "source": [
    "### Conclusion of the Statistical Significance Analysis Comparison between control groups (A/A test):"
   ]
  },
  {
   "cell_type": "markdown",
   "metadata": {},
   "source": [
    "Five hypothesis tests were conducted to compare the events between the control groups (ExpId 246 and 247).\n",
    "The p-values ​​obtained for each event were all greater than 0.1, indicating no statistically significant differences between the two control groups.\n",
    "This confirms that the allocation between the groups was adequate and that the system for assigning users to the experiment is reliable.\n"
   ]
  },
  {
   "cell_type": "markdown",
   "metadata": {},
   "source": [
    "### Comparison of the test group (ExpId 248) with the control groups:"
   ]
  },
  {
   "cell_type": "markdown",
   "metadata": {},
   "source": [
    "Ten additional tests were performed to compare the experimental group against each control group separately.\n",
    "In all cases, the p-values ​​were also greater than 0.1, with a single marginal exception:\n",
    "\n",
    "CartScreenAppear vs. group 246: p = 0.0784\n",
    "\n",
    "Although this value is below the threshold of 0.1, a significant difference cannot be concluded without adjusting for multiple comparisons."
   ]
  },
  {
   "cell_type": "markdown",
   "metadata": {},
   "source": [
    "### Consideration of multiple tests (15 in total):\n"
   ]
  },
  {
   "cell_type": "markdown",
   "metadata": {},
   "source": [
    "With 15 tests and a significance level of 0.1, we could expect up to 1.5 false positives due to chance. Therefore, it is advisable to apply a correction for multiple comparisons, such as the Bonferroni correction.\n",
    "\n",
    "Using Bonferroni, the adjusted threshold would be:\n",
    "0.1 / 15 ≈ 0.0067\n",
    "\n",
    "No p-value is lower than this new threshold; therefore, there is no statistically significant evidence that the experimental group differs from the control groups.\n"
   ]
  },
  {
   "cell_type": "markdown",
   "metadata": {},
   "source": [
    "### General conclusion"
   ]
  },
  {
   "cell_type": "markdown",
   "metadata": {},
   "source": [
    "The A/A test was successful: the control groups showed no differences, validating the experiment's methodology.\n",
    "\n",
    "The experimental group showed no significant differences in the main events compared to the controls.\n",
    "\n",
    "No significant effects of the experiment on user behavior were observed in any of the stages analyzed.\n",
    "\n",
    "Next step: It could be concluded that the experiment had no measurable impact, or that more data or a redesign of the intervention is needed to generate an observable effect."
   ]
  }
 ],
 "metadata": {
  "kernelspec": {
   "display_name": "base",
   "language": "python",
   "name": "python3"
  },
  "language_info": {
   "codemirror_mode": {
    "name": "ipython",
    "version": 3
   },
   "file_extension": ".py",
   "mimetype": "text/x-python",
   "name": "python",
   "nbconvert_exporter": "python",
   "pygments_lexer": "ipython3",
   "version": "3.8.5"
  }
 },
 "nbformat": 4,
 "nbformat_minor": 4
}
